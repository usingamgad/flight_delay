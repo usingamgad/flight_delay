{
 "cells": [
  {
   "cell_type": "code",
   "execution_count": 1,
   "metadata": {
    "collapsed": false,
    "deletable": true,
    "editable": true
   },
   "outputs": [],
   "source": [
    "import pandas as pd\n",
    "import matplotlib.pyplot as plt\n",
    "%matplotlib inline"
   ]
  },
  {
   "cell_type": "markdown",
   "metadata": {
    "deletable": true,
    "editable": true
   },
   "source": [
    "### 1. Load Data"
   ]
  },
  {
   "cell_type": "code",
   "execution_count": 2,
   "metadata": {
    "collapsed": false,
    "deletable": true,
    "editable": true
   },
   "outputs": [
    {
     "name": "stderr",
     "output_type": "stream",
     "text": [
      "/Users/am186122/.virtualenvs/TensorFlow/lib/python2.7/site-packages/IPython/core/interactiveshell.py:2717: DtypeWarning: Columns (77) have mixed types. Specify dtype option on import or set low_memory=False.\n",
      "  interactivity=interactivity, compiler=compiler, result=result)\n",
      "/Users/am186122/.virtualenvs/TensorFlow/lib/python2.7/site-packages/IPython/core/interactiveshell.py:2717: DtypeWarning: Columns (77,84) have mixed types. Specify dtype option on import or set low_memory=False.\n",
      "  interactivity=interactivity, compiler=compiler, result=result)\n",
      "/Users/am186122/.virtualenvs/TensorFlow/lib/python2.7/site-packages/IPython/core/interactiveshell.py:2717: DtypeWarning: Columns (48,77,84) have mixed types. Specify dtype option on import or set low_memory=False.\n",
      "  interactivity=interactivity, compiler=compiler, result=result)\n",
      "/Users/am186122/.virtualenvs/TensorFlow/lib/python2.7/site-packages/IPython/core/interactiveshell.py:2717: DtypeWarning: Columns (48,77,84,85) have mixed types. Specify dtype option on import or set low_memory=False.\n",
      "  interactivity=interactivity, compiler=compiler, result=result)\n",
      "/Users/am186122/.virtualenvs/TensorFlow/lib/python2.7/site-packages/IPython/core/interactiveshell.py:2717: DtypeWarning: Columns (48,69,76,77,84) have mixed types. Specify dtype option on import or set low_memory=False.\n",
      "  interactivity=interactivity, compiler=compiler, result=result)\n"
     ]
    }
   ],
   "source": [
    "df = pd.concat([\n",
    "    pd.read_csv('../data/On_Time_On_Time_Performance_2016_1.csv')\n",
    ",pd.read_csv('../data/On_Time_On_Time_Performance_2016_2.csv')\n",
    ",pd.read_csv('../data/On_Time_On_Time_Performance_2016_3.csv')\n",
    ",pd.read_csv('../data/On_Time_On_Time_Performance_2016_4.csv')\n",
    ",pd.read_csv('../data/On_Time_On_Time_Performance_2016_5.csv')\n",
    ",pd.read_csv('../data/On_Time_On_Time_Performance_2016_6.csv')\n",
    ",pd.read_csv('../data/On_Time_On_Time_Performance_2016_7.csv')\n",
    ",pd.read_csv('../data/On_Time_On_Time_Performance_2016_8.csv')\n",
    ",pd.read_csv('../data/On_Time_On_Time_Performance_2016_9.csv')\n",
    ",pd.read_csv('../data/On_Time_On_Time_Performance_2016_10.csv')\n",
    ",pd.read_csv('../data/On_Time_On_Time_Performance_2016_11.csv')\n",
    ",pd.read_csv('../data/On_Time_On_Time_Performance_2016_12.csv')\n",
    ",pd.read_csv('../data/On_Time_On_Time_Performance_2017_1.csv')\n",
    "])"
   ]
  },
  {
   "cell_type": "markdown",
   "metadata": {
    "deletable": true,
    "editable": true
   },
   "source": [
    "### 2. Initial Analysis of the data"
   ]
  },
  {
   "cell_type": "code",
   "execution_count": 3,
   "metadata": {
    "collapsed": false,
    "deletable": true,
    "editable": true
   },
   "outputs": [
    {
     "data": {
      "text/plain": [
       "0.3444744486149967"
      ]
     },
     "execution_count": 3,
     "metadata": {},
     "output_type": "execute_result"
    }
   ],
   "source": [
    "# Proportion of delays\n",
    "float(df[df['DepDelay'] > 0].shape[0])/df.shape[0]"
   ]
  },
  {
   "cell_type": "code",
   "execution_count": 4,
   "metadata": {
    "collapsed": false,
    "deletable": true,
    "editable": true
   },
   "outputs": [
    {
     "data": {
      "text/html": [
       "<div>\n",
       "<table border=\"1\" class=\"dataframe\">\n",
       "  <thead>\n",
       "    <tr style=\"text-align: right;\">\n",
       "      <th></th>\n",
       "      <th>Year</th>\n",
       "      <th>Quarter</th>\n",
       "      <th>Month</th>\n",
       "      <th>DayofMonth</th>\n",
       "      <th>DayOfWeek</th>\n",
       "      <th>FlightDate</th>\n",
       "      <th>UniqueCarrier</th>\n",
       "      <th>AirlineID</th>\n",
       "      <th>Carrier</th>\n",
       "      <th>TailNum</th>\n",
       "      <th>...</th>\n",
       "      <th>Div4TailNum</th>\n",
       "      <th>Div5Airport</th>\n",
       "      <th>Div5AirportID</th>\n",
       "      <th>Div5AirportSeqID</th>\n",
       "      <th>Div5WheelsOn</th>\n",
       "      <th>Div5TotalGTime</th>\n",
       "      <th>Div5LongestGTime</th>\n",
       "      <th>Div5WheelsOff</th>\n",
       "      <th>Div5TailNum</th>\n",
       "      <th>Unnamed: 109</th>\n",
       "    </tr>\n",
       "  </thead>\n",
       "  <tbody>\n",
       "    <tr>\n",
       "      <th>0</th>\n",
       "      <td>2016</td>\n",
       "      <td>1</td>\n",
       "      <td>1</td>\n",
       "      <td>6</td>\n",
       "      <td>3</td>\n",
       "      <td>2016-01-06</td>\n",
       "      <td>AA</td>\n",
       "      <td>19805</td>\n",
       "      <td>AA</td>\n",
       "      <td>N4YBAA</td>\n",
       "      <td>...</td>\n",
       "      <td>NaN</td>\n",
       "      <td>NaN</td>\n",
       "      <td>NaN</td>\n",
       "      <td>NaN</td>\n",
       "      <td>NaN</td>\n",
       "      <td>NaN</td>\n",
       "      <td>NaN</td>\n",
       "      <td>NaN</td>\n",
       "      <td>NaN</td>\n",
       "      <td>NaN</td>\n",
       "    </tr>\n",
       "    <tr>\n",
       "      <th>1</th>\n",
       "      <td>2016</td>\n",
       "      <td>1</td>\n",
       "      <td>1</td>\n",
       "      <td>7</td>\n",
       "      <td>4</td>\n",
       "      <td>2016-01-07</td>\n",
       "      <td>AA</td>\n",
       "      <td>19805</td>\n",
       "      <td>AA</td>\n",
       "      <td>N434AA</td>\n",
       "      <td>...</td>\n",
       "      <td>NaN</td>\n",
       "      <td>NaN</td>\n",
       "      <td>NaN</td>\n",
       "      <td>NaN</td>\n",
       "      <td>NaN</td>\n",
       "      <td>NaN</td>\n",
       "      <td>NaN</td>\n",
       "      <td>NaN</td>\n",
       "      <td>NaN</td>\n",
       "      <td>NaN</td>\n",
       "    </tr>\n",
       "    <tr>\n",
       "      <th>2</th>\n",
       "      <td>2016</td>\n",
       "      <td>1</td>\n",
       "      <td>1</td>\n",
       "      <td>8</td>\n",
       "      <td>5</td>\n",
       "      <td>2016-01-08</td>\n",
       "      <td>AA</td>\n",
       "      <td>19805</td>\n",
       "      <td>AA</td>\n",
       "      <td>N541AA</td>\n",
       "      <td>...</td>\n",
       "      <td>NaN</td>\n",
       "      <td>NaN</td>\n",
       "      <td>NaN</td>\n",
       "      <td>NaN</td>\n",
       "      <td>NaN</td>\n",
       "      <td>NaN</td>\n",
       "      <td>NaN</td>\n",
       "      <td>NaN</td>\n",
       "      <td>NaN</td>\n",
       "      <td>NaN</td>\n",
       "    </tr>\n",
       "    <tr>\n",
       "      <th>3</th>\n",
       "      <td>2016</td>\n",
       "      <td>1</td>\n",
       "      <td>1</td>\n",
       "      <td>9</td>\n",
       "      <td>6</td>\n",
       "      <td>2016-01-09</td>\n",
       "      <td>AA</td>\n",
       "      <td>19805</td>\n",
       "      <td>AA</td>\n",
       "      <td>N489AA</td>\n",
       "      <td>...</td>\n",
       "      <td>NaN</td>\n",
       "      <td>NaN</td>\n",
       "      <td>NaN</td>\n",
       "      <td>NaN</td>\n",
       "      <td>NaN</td>\n",
       "      <td>NaN</td>\n",
       "      <td>NaN</td>\n",
       "      <td>NaN</td>\n",
       "      <td>NaN</td>\n",
       "      <td>NaN</td>\n",
       "    </tr>\n",
       "    <tr>\n",
       "      <th>4</th>\n",
       "      <td>2016</td>\n",
       "      <td>1</td>\n",
       "      <td>1</td>\n",
       "      <td>10</td>\n",
       "      <td>7</td>\n",
       "      <td>2016-01-10</td>\n",
       "      <td>AA</td>\n",
       "      <td>19805</td>\n",
       "      <td>AA</td>\n",
       "      <td>N439AA</td>\n",
       "      <td>...</td>\n",
       "      <td>NaN</td>\n",
       "      <td>NaN</td>\n",
       "      <td>NaN</td>\n",
       "      <td>NaN</td>\n",
       "      <td>NaN</td>\n",
       "      <td>NaN</td>\n",
       "      <td>NaN</td>\n",
       "      <td>NaN</td>\n",
       "      <td>NaN</td>\n",
       "      <td>NaN</td>\n",
       "    </tr>\n",
       "  </tbody>\n",
       "</table>\n",
       "<p>5 rows × 110 columns</p>\n",
       "</div>"
      ],
      "text/plain": [
       "   Year  Quarter  Month  DayofMonth  DayOfWeek  FlightDate UniqueCarrier  \\\n",
       "0  2016        1      1           6          3  2016-01-06            AA   \n",
       "1  2016        1      1           7          4  2016-01-07            AA   \n",
       "2  2016        1      1           8          5  2016-01-08            AA   \n",
       "3  2016        1      1           9          6  2016-01-09            AA   \n",
       "4  2016        1      1          10          7  2016-01-10            AA   \n",
       "\n",
       "   AirlineID Carrier TailNum      ...       Div4TailNum  Div5Airport  \\\n",
       "0      19805      AA  N4YBAA      ...               NaN          NaN   \n",
       "1      19805      AA  N434AA      ...               NaN          NaN   \n",
       "2      19805      AA  N541AA      ...               NaN          NaN   \n",
       "3      19805      AA  N489AA      ...               NaN          NaN   \n",
       "4      19805      AA  N439AA      ...               NaN          NaN   \n",
       "\n",
       "   Div5AirportID  Div5AirportSeqID Div5WheelsOn Div5TotalGTime  \\\n",
       "0            NaN               NaN          NaN            NaN   \n",
       "1            NaN               NaN          NaN            NaN   \n",
       "2            NaN               NaN          NaN            NaN   \n",
       "3            NaN               NaN          NaN            NaN   \n",
       "4            NaN               NaN          NaN            NaN   \n",
       "\n",
       "  Div5LongestGTime  Div5WheelsOff Div5TailNum  Unnamed: 109  \n",
       "0              NaN            NaN         NaN           NaN  \n",
       "1              NaN            NaN         NaN           NaN  \n",
       "2              NaN            NaN         NaN           NaN  \n",
       "3              NaN            NaN         NaN           NaN  \n",
       "4              NaN            NaN         NaN           NaN  \n",
       "\n",
       "[5 rows x 110 columns]"
      ]
     },
     "execution_count": 4,
     "metadata": {},
     "output_type": "execute_result"
    }
   ],
   "source": [
    "df.head()"
   ]
  },
  {
   "cell_type": "code",
   "execution_count": 5,
   "metadata": {
    "collapsed": false,
    "deletable": true,
    "editable": true
   },
   "outputs": [
    {
     "data": {
      "text/plain": [
       "(6067675, 110)"
      ]
     },
     "execution_count": 5,
     "metadata": {},
     "output_type": "execute_result"
    }
   ],
   "source": [
    "df.shape"
   ]
  },
  {
   "cell_type": "markdown",
   "metadata": {
    "deletable": true,
    "editable": true
   },
   "source": [
    "### 3. Transform the data"
   ]
  },
  {
   "cell_type": "code",
   "execution_count": 6,
   "metadata": {
    "collapsed": false,
    "deletable": true,
    "editable": true
   },
   "outputs": [],
   "source": [
    "# Remove cancelled flights\n",
    "df = df[df['Cancelled']<1] # The flight is cancelled"
   ]
  },
  {
   "cell_type": "code",
   "execution_count": 7,
   "metadata": {
    "collapsed": false,
    "deletable": true,
    "editable": true
   },
   "outputs": [
    {
     "data": {
      "text/plain": [
       "(5992928, 110)"
      ]
     },
     "execution_count": 7,
     "metadata": {},
     "output_type": "execute_result"
    }
   ],
   "source": [
    "df.shape"
   ]
  },
  {
   "cell_type": "code",
   "execution_count": 8,
   "metadata": {
    "collapsed": true,
    "deletable": true,
    "editable": true
   },
   "outputs": [],
   "source": [
    "# Remove diverted flights\n",
    "df = df[df['Diverted']<1] # The flight is diverted"
   ]
  },
  {
   "cell_type": "code",
   "execution_count": 9,
   "metadata": {
    "collapsed": false,
    "deletable": true,
    "editable": true
   },
   "outputs": [
    {
     "data": {
      "text/plain": [
       "(5977790, 110)"
      ]
     },
     "execution_count": 9,
     "metadata": {},
     "output_type": "execute_result"
    }
   ],
   "source": [
    "df.shape"
   ]
  },
  {
   "cell_type": "code",
   "execution_count": 10,
   "metadata": {
    "collapsed": false,
    "deletable": true,
    "editable": true
   },
   "outputs": [
    {
     "name": "stderr",
     "output_type": "stream",
     "text": [
      "/Users/am186122/.virtualenvs/TensorFlow/lib/python2.7/site-packages/ipykernel/__main__.py:4: SettingWithCopyWarning: \n",
      "A value is trying to be set on a copy of a slice from a DataFrame\n",
      "\n",
      "See the caveats in the documentation: http://pandas.pydata.org/pandas-docs/stable/indexing.html#indexing-view-versus-copy\n",
      "/Users/am186122/.virtualenvs/TensorFlow/lib/python2.7/site-packages/ipykernel/__main__.py:5: SettingWithCopyWarning: \n",
      "A value is trying to be set on a copy of a slice from a DataFrame\n",
      "\n",
      "See the caveats in the documentation: http://pandas.pydata.org/pandas-docs/stable/indexing.html#indexing-view-versus-copy\n",
      "/Users/am186122/.virtualenvs/TensorFlow/lib/python2.7/site-packages/ipykernel/__main__.py:6: SettingWithCopyWarning: \n",
      "A value is trying to be set on a copy of a slice from a DataFrame\n",
      "\n",
      "See the caveats in the documentation: http://pandas.pydata.org/pandas-docs/stable/indexing.html#indexing-view-versus-copy\n",
      "/Users/am186122/.virtualenvs/TensorFlow/lib/python2.7/site-packages/ipykernel/__main__.py:7: SettingWithCopyWarning: \n",
      "A value is trying to be set on a copy of a slice from a DataFrame\n",
      "\n",
      "See the caveats in the documentation: http://pandas.pydata.org/pandas-docs/stable/indexing.html#indexing-view-versus-copy\n"
     ]
    }
   ],
   "source": [
    "###### Create a field for logistic regression (Classic method)\n",
    "\n",
    "df['Class'] = 'No Delay'\n",
    "df['Class'][(df['DepDelay'] >= 15) & (df['DepDelay'] < 30)] = 'Minor Delay'\n",
    "df['Class'][(df['DepDelay'] >= 30) & (df['DepDelay'] < 60)] = 'Delay'\n",
    "df['Class'][(df['DepDelay'] >= 60) & (df['DepDelay'] < 120)] = 'Significant Delay'\n",
    "df['Class'][df['DepDelay'] > 120] = 'Severe Delay'\n"
   ]
  },
  {
   "cell_type": "code",
   "execution_count": 11,
   "metadata": {
    "collapsed": false,
    "deletable": true,
    "editable": true
   },
   "outputs": [
    {
     "data": {
      "text/html": [
       "<div>\n",
       "<table border=\"1\" class=\"dataframe\">\n",
       "  <thead>\n",
       "    <tr style=\"text-align: right;\">\n",
       "      <th></th>\n",
       "      <th>Year</th>\n",
       "      <th>Quarter</th>\n",
       "      <th>Month</th>\n",
       "      <th>DayofMonth</th>\n",
       "      <th>DayOfWeek</th>\n",
       "      <th>FlightDate</th>\n",
       "      <th>UniqueCarrier</th>\n",
       "      <th>AirlineID</th>\n",
       "      <th>Carrier</th>\n",
       "      <th>TailNum</th>\n",
       "      <th>...</th>\n",
       "      <th>Div4TailNum</th>\n",
       "      <th>Div5Airport</th>\n",
       "      <th>Div5AirportID</th>\n",
       "      <th>Div5AirportSeqID</th>\n",
       "      <th>Div5WheelsOn</th>\n",
       "      <th>Div5TotalGTime</th>\n",
       "      <th>Div5LongestGTime</th>\n",
       "      <th>Div5WheelsOff</th>\n",
       "      <th>Div5TailNum</th>\n",
       "      <th>Unnamed: 109</th>\n",
       "    </tr>\n",
       "    <tr>\n",
       "      <th>Class</th>\n",
       "      <th></th>\n",
       "      <th></th>\n",
       "      <th></th>\n",
       "      <th></th>\n",
       "      <th></th>\n",
       "      <th></th>\n",
       "      <th></th>\n",
       "      <th></th>\n",
       "      <th></th>\n",
       "      <th></th>\n",
       "      <th></th>\n",
       "      <th></th>\n",
       "      <th></th>\n",
       "      <th></th>\n",
       "      <th></th>\n",
       "      <th></th>\n",
       "      <th></th>\n",
       "      <th></th>\n",
       "      <th></th>\n",
       "      <th></th>\n",
       "      <th></th>\n",
       "    </tr>\n",
       "  </thead>\n",
       "  <tbody>\n",
       "    <tr>\n",
       "      <th>Delay</th>\n",
       "      <td>0.052730</td>\n",
       "      <td>0.052730</td>\n",
       "      <td>0.052730</td>\n",
       "      <td>0.052730</td>\n",
       "      <td>0.052730</td>\n",
       "      <td>0.052730</td>\n",
       "      <td>0.052730</td>\n",
       "      <td>0.052730</td>\n",
       "      <td>0.052730</td>\n",
       "      <td>0.052730</td>\n",
       "      <td>...</td>\n",
       "      <td>0.0</td>\n",
       "      <td>0.0</td>\n",
       "      <td>0.0</td>\n",
       "      <td>0.0</td>\n",
       "      <td>0.0</td>\n",
       "      <td>0.0</td>\n",
       "      <td>0.0</td>\n",
       "      <td>0.0</td>\n",
       "      <td>0.0</td>\n",
       "      <td>0.0</td>\n",
       "    </tr>\n",
       "    <tr>\n",
       "      <th>Minor Delay</th>\n",
       "      <td>0.064045</td>\n",
       "      <td>0.064045</td>\n",
       "      <td>0.064045</td>\n",
       "      <td>0.064045</td>\n",
       "      <td>0.064045</td>\n",
       "      <td>0.064045</td>\n",
       "      <td>0.064045</td>\n",
       "      <td>0.064045</td>\n",
       "      <td>0.064045</td>\n",
       "      <td>0.064045</td>\n",
       "      <td>...</td>\n",
       "      <td>0.0</td>\n",
       "      <td>0.0</td>\n",
       "      <td>0.0</td>\n",
       "      <td>0.0</td>\n",
       "      <td>0.0</td>\n",
       "      <td>0.0</td>\n",
       "      <td>0.0</td>\n",
       "      <td>0.0</td>\n",
       "      <td>0.0</td>\n",
       "      <td>0.0</td>\n",
       "    </tr>\n",
       "    <tr>\n",
       "      <th>No Delay</th>\n",
       "      <td>0.826298</td>\n",
       "      <td>0.826298</td>\n",
       "      <td>0.826298</td>\n",
       "      <td>0.826298</td>\n",
       "      <td>0.826298</td>\n",
       "      <td>0.826298</td>\n",
       "      <td>0.826298</td>\n",
       "      <td>0.826298</td>\n",
       "      <td>0.826298</td>\n",
       "      <td>0.826298</td>\n",
       "      <td>...</td>\n",
       "      <td>0.0</td>\n",
       "      <td>0.0</td>\n",
       "      <td>0.0</td>\n",
       "      <td>0.0</td>\n",
       "      <td>0.0</td>\n",
       "      <td>0.0</td>\n",
       "      <td>0.0</td>\n",
       "      <td>0.0</td>\n",
       "      <td>0.0</td>\n",
       "      <td>0.0</td>\n",
       "    </tr>\n",
       "    <tr>\n",
       "      <th>Severe Delay</th>\n",
       "      <td>0.021223</td>\n",
       "      <td>0.021223</td>\n",
       "      <td>0.021223</td>\n",
       "      <td>0.021223</td>\n",
       "      <td>0.021223</td>\n",
       "      <td>0.021223</td>\n",
       "      <td>0.021223</td>\n",
       "      <td>0.021223</td>\n",
       "      <td>0.021223</td>\n",
       "      <td>0.021223</td>\n",
       "      <td>...</td>\n",
       "      <td>0.0</td>\n",
       "      <td>0.0</td>\n",
       "      <td>0.0</td>\n",
       "      <td>0.0</td>\n",
       "      <td>0.0</td>\n",
       "      <td>0.0</td>\n",
       "      <td>0.0</td>\n",
       "      <td>0.0</td>\n",
       "      <td>0.0</td>\n",
       "      <td>0.0</td>\n",
       "    </tr>\n",
       "    <tr>\n",
       "      <th>Significant Delay</th>\n",
       "      <td>0.035704</td>\n",
       "      <td>0.035704</td>\n",
       "      <td>0.035704</td>\n",
       "      <td>0.035704</td>\n",
       "      <td>0.035704</td>\n",
       "      <td>0.035704</td>\n",
       "      <td>0.035704</td>\n",
       "      <td>0.035704</td>\n",
       "      <td>0.035704</td>\n",
       "      <td>0.035704</td>\n",
       "      <td>...</td>\n",
       "      <td>0.0</td>\n",
       "      <td>0.0</td>\n",
       "      <td>0.0</td>\n",
       "      <td>0.0</td>\n",
       "      <td>0.0</td>\n",
       "      <td>0.0</td>\n",
       "      <td>0.0</td>\n",
       "      <td>0.0</td>\n",
       "      <td>0.0</td>\n",
       "      <td>0.0</td>\n",
       "    </tr>\n",
       "  </tbody>\n",
       "</table>\n",
       "<p>5 rows × 110 columns</p>\n",
       "</div>"
      ],
      "text/plain": [
       "                       Year   Quarter     Month  DayofMonth  DayOfWeek  \\\n",
       "Class                                                                    \n",
       "Delay              0.052730  0.052730  0.052730    0.052730   0.052730   \n",
       "Minor Delay        0.064045  0.064045  0.064045    0.064045   0.064045   \n",
       "No Delay           0.826298  0.826298  0.826298    0.826298   0.826298   \n",
       "Severe Delay       0.021223  0.021223  0.021223    0.021223   0.021223   \n",
       "Significant Delay  0.035704  0.035704  0.035704    0.035704   0.035704   \n",
       "\n",
       "                   FlightDate  UniqueCarrier  AirlineID   Carrier   TailNum  \\\n",
       "Class                                                                         \n",
       "Delay                0.052730       0.052730   0.052730  0.052730  0.052730   \n",
       "Minor Delay          0.064045       0.064045   0.064045  0.064045  0.064045   \n",
       "No Delay             0.826298       0.826298   0.826298  0.826298  0.826298   \n",
       "Severe Delay         0.021223       0.021223   0.021223  0.021223  0.021223   \n",
       "Significant Delay    0.035704       0.035704   0.035704  0.035704  0.035704   \n",
       "\n",
       "                       ...       Div4TailNum  Div5Airport  Div5AirportID  \\\n",
       "Class                  ...                                                 \n",
       "Delay                  ...               0.0          0.0            0.0   \n",
       "Minor Delay            ...               0.0          0.0            0.0   \n",
       "No Delay               ...               0.0          0.0            0.0   \n",
       "Severe Delay           ...               0.0          0.0            0.0   \n",
       "Significant Delay      ...               0.0          0.0            0.0   \n",
       "\n",
       "                   Div5AirportSeqID  Div5WheelsOn  Div5TotalGTime  \\\n",
       "Class                                                               \n",
       "Delay                           0.0           0.0             0.0   \n",
       "Minor Delay                     0.0           0.0             0.0   \n",
       "No Delay                        0.0           0.0             0.0   \n",
       "Severe Delay                    0.0           0.0             0.0   \n",
       "Significant Delay               0.0           0.0             0.0   \n",
       "\n",
       "                   Div5LongestGTime  Div5WheelsOff  Div5TailNum  Unnamed: 109  \n",
       "Class                                                                          \n",
       "Delay                           0.0            0.0          0.0           0.0  \n",
       "Minor Delay                     0.0            0.0          0.0           0.0  \n",
       "No Delay                        0.0            0.0          0.0           0.0  \n",
       "Severe Delay                    0.0            0.0          0.0           0.0  \n",
       "Significant Delay               0.0            0.0          0.0           0.0  \n",
       "\n",
       "[5 rows x 110 columns]"
      ]
     },
     "execution_count": 11,
     "metadata": {},
     "output_type": "execute_result"
    }
   ],
   "source": [
    "# Check rows per class\n",
    "df.groupby(['Class']).count()/len(df)"
   ]
  },
  {
   "cell_type": "code",
   "execution_count": 12,
   "metadata": {
    "collapsed": false,
    "deletable": true,
    "editable": true
   },
   "outputs": [
    {
     "name": "stderr",
     "output_type": "stream",
     "text": [
      "/Users/am186122/.virtualenvs/TensorFlow/lib/python2.7/site-packages/ipykernel/__main__.py:4: SettingWithCopyWarning: \n",
      "A value is trying to be set on a copy of a slice from a DataFrame\n",
      "\n",
      "See the caveats in the documentation: http://pandas.pydata.org/pandas-docs/stable/indexing.html#indexing-view-versus-copy\n",
      "/Users/am186122/.virtualenvs/TensorFlow/lib/python2.7/site-packages/ipykernel/__main__.py:5: SettingWithCopyWarning: \n",
      "A value is trying to be set on a copy of a slice from a DataFrame\n",
      "\n",
      "See the caveats in the documentation: http://pandas.pydata.org/pandas-docs/stable/indexing.html#indexing-view-versus-copy\n",
      "/Users/am186122/.virtualenvs/TensorFlow/lib/python2.7/site-packages/ipykernel/__main__.py:6: SettingWithCopyWarning: \n",
      "A value is trying to be set on a copy of a slice from a DataFrame\n",
      "\n",
      "See the caveats in the documentation: http://pandas.pydata.org/pandas-docs/stable/indexing.html#indexing-view-versus-copy\n",
      "/Users/am186122/.virtualenvs/TensorFlow/lib/python2.7/site-packages/ipykernel/__main__.py:7: SettingWithCopyWarning: \n",
      "A value is trying to be set on a copy of a slice from a DataFrame\n",
      "\n",
      "See the caveats in the documentation: http://pandas.pydata.org/pandas-docs/stable/indexing.html#indexing-view-versus-copy\n"
     ]
    }
   ],
   "source": [
    "###### Create a field for logistic regression (Tensorflow)\n",
    "\n",
    "df['ClassNo'] = 0\n",
    "df['ClassNo'][(df['DepDelay'] >= 15) & (df['DepDelay'] < 30)] = 1\n",
    "df['ClassNo'][(df['DepDelay'] >= 30) & (df['DepDelay'] < 60)] = 2\n",
    "df['ClassNo'][(df['DepDelay'] >= 60) & (df['DepDelay'] < 120)] = 3\n",
    "df['ClassNo'][df['DepDelay'] > 120] = 4"
   ]
  },
  {
   "cell_type": "code",
   "execution_count": 13,
   "metadata": {
    "collapsed": false,
    "deletable": true,
    "editable": true
   },
   "outputs": [],
   "source": [
    "# std_pop = df['DepDelay'].mean() + 3*df['DepDelay'].std() # Need to normalize the flight delay time. removing outliers.\n",
    "# df.set_value(df[df['DepDelay'] < - std_pop].index.values,'DepDelay',- std_pop)\n",
    "# df.set_value(df[df['DepDelay'] > std_pop].index.values,'DepDelay',std_pop)\n",
    "# df['DepDelay'].max()\n",
    "# df['DepDelay'].hist()"
   ]
  },
  {
   "cell_type": "code",
   "execution_count": 14,
   "metadata": {
    "collapsed": false,
    "deletable": true,
    "editable": true
   },
   "outputs": [
    {
     "data": {
      "text/plain": [
       "(5977790, 112)"
      ]
     },
     "execution_count": 14,
     "metadata": {},
     "output_type": "execute_result"
    }
   ],
   "source": [
    "df.shape"
   ]
  },
  {
   "cell_type": "code",
   "execution_count": 15,
   "metadata": {
    "collapsed": false,
    "deletable": true,
    "editable": true
   },
   "outputs": [],
   "source": [
    "# Choose features\n",
    "df_sub = df[['DayOfWeek', 'DayofMonth', 'Month', 'AirlineID', 'OriginAirportID', 'DestAirportID', 'CRSDepTime', 'Class']]"
   ]
  },
  {
   "cell_type": "code",
   "execution_count": 16,
   "metadata": {
    "collapsed": true,
    "deletable": true,
    "editable": true
   },
   "outputs": [],
   "source": [
    "# Remove NAs\n",
    "df_sub = df_sub.dropna()"
   ]
  },
  {
   "cell_type": "code",
   "execution_count": 17,
   "metadata": {
    "collapsed": false,
    "deletable": true,
    "editable": true
   },
   "outputs": [
    {
     "data": {
      "text/plain": [
       "DayOfWeek           int64\n",
       "DayofMonth          int64\n",
       "Month               int64\n",
       "AirlineID           int64\n",
       "OriginAirportID     int64\n",
       "DestAirportID       int64\n",
       "CRSDepTime          int64\n",
       "Class              object\n",
       "dtype: object"
      ]
     },
     "execution_count": 17,
     "metadata": {},
     "output_type": "execute_result"
    }
   ],
   "source": [
    "df_sub.dtypes"
   ]
  },
  {
   "cell_type": "code",
   "execution_count": 18,
   "metadata": {
    "collapsed": false,
    "deletable": true,
    "editable": true,
    "scrolled": false
   },
   "outputs": [
    {
     "data": {
      "text/plain": [
       "(5977790, 8)"
      ]
     },
     "execution_count": 18,
     "metadata": {},
     "output_type": "execute_result"
    }
   ],
   "source": [
    "df_sub.shape"
   ]
  },
  {
   "cell_type": "code",
   "execution_count": 20,
   "metadata": {
    "collapsed": false,
    "deletable": true,
    "editable": true
   },
   "outputs": [],
   "source": [
    "# Change the data types\n",
    "df_sub.DayOfWeek=df_sub.DayOfWeek.astype(str)\n",
    "df_sub.DayofMonth=df_sub.DayofMonth.astype(str)\n",
    "df_sub.Month=df_sub.Month.astype(str)\n",
    "df_sub.OriginAirportID=df_sub.OriginAirportID.astype(str)\n",
    "df_sub.DestAirportID=df_sub.DestAirportID.astype(str)\n",
    "df_sub.AirlineID=df_sub.AirlineID.astype(str)"
   ]
  },
  {
   "cell_type": "code",
   "execution_count": 21,
   "metadata": {
    "collapsed": false,
    "deletable": true,
    "editable": true
   },
   "outputs": [
    {
     "data": {
      "text/plain": [
       "DayOfWeek          object\n",
       "DayofMonth         object\n",
       "Month              object\n",
       "AirlineID          object\n",
       "OriginAirportID    object\n",
       "DestAirportID      object\n",
       "CRSDepTime          int64\n",
       "Class              object\n",
       "dtype: object"
      ]
     },
     "execution_count": 21,
     "metadata": {},
     "output_type": "execute_result"
    }
   ],
   "source": [
    "df_sub.dtypes"
   ]
  },
  {
   "cell_type": "code",
   "execution_count": 22,
   "metadata": {
    "collapsed": false,
    "deletable": true,
    "editable": true,
    "scrolled": true
   },
   "outputs": [],
   "source": [
    "# df_sub['DepDelay'].hist()\n",
    "# df_sub['DepDelay'].median()\n",
    "# df_sub.set_value(df_sub[df_sub['DepDelay'] < 0].index.values,'DepDelay',0.001)\n",
    "# df_sub.set_value(df_sub[df_sub['DepDelay'] == 0].index.values,'DepDelay',0.001)\n",
    "# df_sub['DepDelay'].hist()\n",
    "# import math\n",
    "# import numpy as np\n",
    "# df_sub['DepDelayLog'] = df_sub['DepDelay'].apply(np.log)\n",
    "# df_sub['DepDelay'].hist()\n",
    "# from sklearn import preprocessing\n",
    "# ss = preprocessing.StandardScaler()\n",
    "# ss = ss.fit(df_sub['DepDelay'])\n",
    "# ss.transform(df_sub['DepDelay']).mean()\n",
    "# df_sub['DepDelayNorm'] = ss.transform(df_sub['DepDelay'])\n",
    "# df_sub['DepDelayNorm'].hist()"
   ]
  },
  {
   "cell_type": "code",
   "execution_count": 23,
   "metadata": {
    "collapsed": true,
    "deletable": true,
    "editable": true
   },
   "outputs": [],
   "source": [
    "# Change the time format\n",
    "df_sub['CRSDepHH'] = df_sub.CRSDepTime/100"
   ]
  },
  {
   "cell_type": "code",
   "execution_count": 24,
   "metadata": {
    "collapsed": false,
    "deletable": true,
    "editable": true
   },
   "outputs": [],
   "source": [
    "df_sub['CRSDepHH'] = df_sub['CRSDepHH'].astype(int)"
   ]
  },
  {
   "cell_type": "code",
   "execution_count": 25,
   "metadata": {
    "collapsed": false,
    "deletable": true,
    "editable": true
   },
   "outputs": [
    {
     "data": {
      "text/plain": [
       "450012     8\n",
       "450013    14\n",
       "450014    14\n",
       "450015     7\n",
       "450016    16\n",
       "Name: CRSDepHH, dtype: int64"
      ]
     },
     "execution_count": 25,
     "metadata": {},
     "output_type": "execute_result"
    }
   ],
   "source": [
    "df_sub['CRSDepHH'].tail()"
   ]
  },
  {
   "cell_type": "code",
   "execution_count": 26,
   "metadata": {
    "collapsed": false,
    "deletable": true,
    "editable": true
   },
   "outputs": [
    {
     "data": {
      "text/plain": [
       "450012     800\n",
       "450013    1430\n",
       "450014    1415\n",
       "450015     755\n",
       "450016    1620\n",
       "Name: CRSDepTime, dtype: int64"
      ]
     },
     "execution_count": 26,
     "metadata": {},
     "output_type": "execute_result"
    }
   ],
   "source": [
    "df_sub.CRSDepTime.tail()"
   ]
  },
  {
   "cell_type": "code",
   "execution_count": 27,
   "metadata": {
    "collapsed": false,
    "deletable": true,
    "editable": true
   },
   "outputs": [
    {
     "data": {
      "text/html": [
       "<div>\n",
       "<table border=\"1\" class=\"dataframe\">\n",
       "  <thead>\n",
       "    <tr style=\"text-align: right;\">\n",
       "      <th></th>\n",
       "      <th>DayOfWeek</th>\n",
       "      <th>DayofMonth</th>\n",
       "      <th>Month</th>\n",
       "      <th>AirlineID</th>\n",
       "      <th>OriginAirportID</th>\n",
       "      <th>DestAirportID</th>\n",
       "      <th>CRSDepTime</th>\n",
       "      <th>Class</th>\n",
       "      <th>CRSDepHH</th>\n",
       "    </tr>\n",
       "  </thead>\n",
       "  <tbody>\n",
       "    <tr>\n",
       "      <th>157795</th>\n",
       "      <td>2</td>\n",
       "      <td>10</td>\n",
       "      <td>1</td>\n",
       "      <td>19790</td>\n",
       "      <td>13296</td>\n",
       "      <td>10397</td>\n",
       "      <td>545</td>\n",
       "      <td>No Delay</td>\n",
       "      <td>5</td>\n",
       "    </tr>\n",
       "    <tr>\n",
       "      <th>21128</th>\n",
       "      <td>1</td>\n",
       "      <td>9</td>\n",
       "      <td>5</td>\n",
       "      <td>19805</td>\n",
       "      <td>14107</td>\n",
       "      <td>12478</td>\n",
       "      <td>2155</td>\n",
       "      <td>No Delay</td>\n",
       "      <td>21</td>\n",
       "    </tr>\n",
       "    <tr>\n",
       "      <th>43937</th>\n",
       "      <td>3</td>\n",
       "      <td>6</td>\n",
       "      <td>1</td>\n",
       "      <td>19805</td>\n",
       "      <td>11057</td>\n",
       "      <td>12953</td>\n",
       "      <td>1830</td>\n",
       "      <td>No Delay</td>\n",
       "      <td>18</td>\n",
       "    </tr>\n",
       "    <tr>\n",
       "      <th>177935</th>\n",
       "      <td>5</td>\n",
       "      <td>30</td>\n",
       "      <td>9</td>\n",
       "      <td>19790</td>\n",
       "      <td>10397</td>\n",
       "      <td>14747</td>\n",
       "      <td>1954</td>\n",
       "      <td>Delay</td>\n",
       "      <td>19</td>\n",
       "    </tr>\n",
       "    <tr>\n",
       "      <th>376535</th>\n",
       "      <td>2</td>\n",
       "      <td>7</td>\n",
       "      <td>6</td>\n",
       "      <td>19790</td>\n",
       "      <td>14747</td>\n",
       "      <td>12889</td>\n",
       "      <td>800</td>\n",
       "      <td>No Delay</td>\n",
       "      <td>8</td>\n",
       "    </tr>\n",
       "    <tr>\n",
       "      <th>364407</th>\n",
       "      <td>5</td>\n",
       "      <td>13</td>\n",
       "      <td>1</td>\n",
       "      <td>19790</td>\n",
       "      <td>13931</td>\n",
       "      <td>10397</td>\n",
       "      <td>1615</td>\n",
       "      <td>No Delay</td>\n",
       "      <td>16</td>\n",
       "    </tr>\n",
       "    <tr>\n",
       "      <th>37134</th>\n",
       "      <td>7</td>\n",
       "      <td>28</td>\n",
       "      <td>2</td>\n",
       "      <td>20304</td>\n",
       "      <td>13487</td>\n",
       "      <td>11337</td>\n",
       "      <td>1022</td>\n",
       "      <td>No Delay</td>\n",
       "      <td>10</td>\n",
       "    </tr>\n",
       "    <tr>\n",
       "      <th>162976</th>\n",
       "      <td>3</td>\n",
       "      <td>14</td>\n",
       "      <td>12</td>\n",
       "      <td>19393</td>\n",
       "      <td>10423</td>\n",
       "      <td>10693</td>\n",
       "      <td>635</td>\n",
       "      <td>No Delay</td>\n",
       "      <td>6</td>\n",
       "    </tr>\n",
       "    <tr>\n",
       "      <th>141863</th>\n",
       "      <td>2</td>\n",
       "      <td>3</td>\n",
       "      <td>1</td>\n",
       "      <td>19930</td>\n",
       "      <td>14747</td>\n",
       "      <td>12523</td>\n",
       "      <td>729</td>\n",
       "      <td>No Delay</td>\n",
       "      <td>7</td>\n",
       "    </tr>\n",
       "    <tr>\n",
       "      <th>363995</th>\n",
       "      <td>7</td>\n",
       "      <td>4</td>\n",
       "      <td>9</td>\n",
       "      <td>20304</td>\n",
       "      <td>12129</td>\n",
       "      <td>13487</td>\n",
       "      <td>712</td>\n",
       "      <td>No Delay</td>\n",
       "      <td>7</td>\n",
       "    </tr>\n",
       "  </tbody>\n",
       "</table>\n",
       "</div>"
      ],
      "text/plain": [
       "       DayOfWeek DayofMonth Month AirlineID OriginAirportID DestAirportID  \\\n",
       "157795         2         10     1     19790           13296         10397   \n",
       "21128          1          9     5     19805           14107         12478   \n",
       "43937          3          6     1     19805           11057         12953   \n",
       "177935         5         30     9     19790           10397         14747   \n",
       "376535         2          7     6     19790           14747         12889   \n",
       "364407         5         13     1     19790           13931         10397   \n",
       "37134          7         28     2     20304           13487         11337   \n",
       "162976         3         14    12     19393           10423         10693   \n",
       "141863         2          3     1     19930           14747         12523   \n",
       "363995         7          4     9     20304           12129         13487   \n",
       "\n",
       "        CRSDepTime     Class  CRSDepHH  \n",
       "157795         545  No Delay         5  \n",
       "21128         2155  No Delay        21  \n",
       "43937         1830  No Delay        18  \n",
       "177935        1954     Delay        19  \n",
       "376535         800  No Delay         8  \n",
       "364407        1615  No Delay        16  \n",
       "37134         1022  No Delay        10  \n",
       "162976         635  No Delay         6  \n",
       "141863         729  No Delay         7  \n",
       "363995         712  No Delay         7  "
      ]
     },
     "execution_count": 27,
     "metadata": {},
     "output_type": "execute_result"
    }
   ],
   "source": [
    "df_sub.sample(10)"
   ]
  },
  {
   "cell_type": "markdown",
   "metadata": {
    "deletable": true,
    "editable": true
   },
   "source": [
    "### 4. Define models"
   ]
  },
  {
   "cell_type": "code",
   "execution_count": 28,
   "metadata": {
    "collapsed": true,
    "deletable": true,
    "editable": true
   },
   "outputs": [],
   "source": [
    "from sklearn import tree\n",
    "clf = tree.DecisionTreeClassifier()"
   ]
  },
  {
   "cell_type": "code",
   "execution_count": 29,
   "metadata": {
    "collapsed": false,
    "deletable": true,
    "editable": true
   },
   "outputs": [],
   "source": [
    "x, y = df_sub[['DayOfWeek', \n",
    "                'DayofMonth', \n",
    "               'Month', \n",
    "               'AirlineID', \n",
    "               'OriginAirportID', \n",
    "               'DestAirportID' ,\n",
    "                'CRSDepHH']], df_sub['Class']\n",
    "               "
   ]
  },
  {
   "cell_type": "code",
   "execution_count": 30,
   "metadata": {
    "collapsed": false,
    "deletable": true,
    "editable": true
   },
   "outputs": [
    {
     "data": {
      "text/plain": [
       "DayOfWeek          object\n",
       "DayofMonth         object\n",
       "Month              object\n",
       "AirlineID          object\n",
       "OriginAirportID    object\n",
       "DestAirportID      object\n",
       "CRSDepHH            int64\n",
       "dtype: object"
      ]
     },
     "execution_count": 30,
     "metadata": {},
     "output_type": "execute_result"
    }
   ],
   "source": [
    "x.dtypes"
   ]
  },
  {
   "cell_type": "code",
   "execution_count": 31,
   "metadata": {
    "collapsed": false,
    "deletable": true,
    "editable": true
   },
   "outputs": [
    {
     "data": {
      "text/html": [
       "<div>\n",
       "<table border=\"1\" class=\"dataframe\">\n",
       "  <thead>\n",
       "    <tr style=\"text-align: right;\">\n",
       "      <th></th>\n",
       "      <th>DayOfWeek</th>\n",
       "      <th>DayofMonth</th>\n",
       "      <th>Month</th>\n",
       "      <th>AirlineID</th>\n",
       "      <th>OriginAirportID</th>\n",
       "      <th>DestAirportID</th>\n",
       "      <th>CRSDepHH</th>\n",
       "    </tr>\n",
       "  </thead>\n",
       "  <tbody>\n",
       "    <tr>\n",
       "      <th>184425</th>\n",
       "      <td>1</td>\n",
       "      <td>1</td>\n",
       "      <td>2</td>\n",
       "      <td>20409</td>\n",
       "      <td>10423</td>\n",
       "      <td>12954</td>\n",
       "      <td>15</td>\n",
       "    </tr>\n",
       "  </tbody>\n",
       "</table>\n",
       "</div>"
      ],
      "text/plain": [
       "       DayOfWeek DayofMonth Month AirlineID OriginAirportID DestAirportID  \\\n",
       "184425         1          1     2     20409           10423         12954   \n",
       "\n",
       "        CRSDepHH  \n",
       "184425        15  "
      ]
     },
     "execution_count": 31,
     "metadata": {},
     "output_type": "execute_result"
    }
   ],
   "source": [
    "x.sample()"
   ]
  },
  {
   "cell_type": "code",
   "execution_count": 32,
   "metadata": {
    "collapsed": false,
    "deletable": true,
    "editable": true,
    "scrolled": true
   },
   "outputs": [
    {
     "data": {
      "text/plain": [
       "dtype('O')"
      ]
     },
     "execution_count": 32,
     "metadata": {},
     "output_type": "execute_result"
    }
   ],
   "source": [
    "y.dtypes"
   ]
  },
  {
   "cell_type": "code",
   "execution_count": 34,
   "metadata": {
    "collapsed": false,
    "deletable": true,
    "editable": true
   },
   "outputs": [
    {
     "data": {
      "text/plain": [
       "No Delay             4939438\n",
       "Minor Delay           382848\n",
       "Delay                 315208\n",
       "Significant Delay     213431\n",
       "Severe Delay          126865\n",
       "Name: Class, dtype: int64"
      ]
     },
     "execution_count": 34,
     "metadata": {},
     "output_type": "execute_result"
    }
   ],
   "source": [
    "y.value_counts() # We need to balance the classes"
   ]
  },
  {
   "cell_type": "code",
   "execution_count": 35,
   "metadata": {
    "collapsed": true,
    "deletable": true,
    "editable": true
   },
   "outputs": [],
   "source": [
    "from sklearn.model_selection import train_test_split"
   ]
  },
  {
   "cell_type": "code",
   "execution_count": 36,
   "metadata": {
    "collapsed": true,
    "deletable": true,
    "editable": true
   },
   "outputs": [],
   "source": [
    "X_train, X_test, y_train, y_test = train_test_split(x, y, test_size=0.3, random_state=0)"
   ]
  },
  {
   "cell_type": "code",
   "execution_count": 37,
   "metadata": {
    "collapsed": false,
    "deletable": true,
    "editable": true
   },
   "outputs": [
    {
     "data": {
      "text/plain": [
       "(4184453, 7)"
      ]
     },
     "execution_count": 37,
     "metadata": {},
     "output_type": "execute_result"
    }
   ],
   "source": [
    "X_train.shape"
   ]
  },
  {
   "cell_type": "code",
   "execution_count": 38,
   "metadata": {
    "collapsed": false,
    "deletable": true,
    "editable": true
   },
   "outputs": [
    {
     "data": {
      "text/plain": [
       "(4184453,)"
      ]
     },
     "execution_count": 38,
     "metadata": {},
     "output_type": "execute_result"
    }
   ],
   "source": [
    "y_train.shape"
   ]
  },
  {
   "cell_type": "code",
   "execution_count": 39,
   "metadata": {
    "collapsed": false,
    "deletable": true,
    "editable": true
   },
   "outputs": [],
   "source": [
    "# Decision Tree fitting a model\n",
    "clf = clf.fit(X_train, y_train)"
   ]
  },
  {
   "cell_type": "code",
   "execution_count": 40,
   "metadata": {
    "collapsed": true,
    "deletable": true,
    "editable": true
   },
   "outputs": [],
   "source": [
    "from sklearn.metrics import precision_recall_fscore_support"
   ]
  },
  {
   "cell_type": "code",
   "execution_count": 41,
   "metadata": {
    "collapsed": false,
    "deletable": true,
    "editable": true
   },
   "outputs": [],
   "source": [
    "# Check model accuracy\n",
    "y_pred = clf.predict(X_test)\n",
    "y_pred_train = clf.predict(X_train)"
   ]
  },
  {
   "cell_type": "code",
   "execution_count": 42,
   "metadata": {
    "collapsed": false,
    "deletable": true,
    "editable": true
   },
   "outputs": [
    {
     "data": {
      "text/plain": [
       "(0.25671419598230677, 0.26438164294909672, 0.25999179908843362, None)"
      ]
     },
     "execution_count": 42,
     "metadata": {},
     "output_type": "execute_result"
    }
   ],
   "source": [
    "#Test\n",
    "precision_recall_fscore_support(y_test, y_pred, average='macro')"
   ]
  },
  {
   "cell_type": "code",
   "execution_count": 43,
   "metadata": {
    "collapsed": false,
    "deletable": true,
    "editable": true
   },
   "outputs": [
    {
     "data": {
      "text/plain": [
       "(0.99586987879137356, 0.99612815454168402, 0.9959845617468126, None)"
      ]
     },
     "execution_count": 43,
     "metadata": {},
     "output_type": "execute_result"
    }
   ],
   "source": [
    "#Train\n",
    "precision_recall_fscore_support(y_train, y_pred_train, average='macro')"
   ]
  },
  {
   "cell_type": "code",
   "execution_count": 44,
   "metadata": {
    "collapsed": false,
    "deletable": true,
    "editable": true
   },
   "outputs": [
    {
     "data": {
      "text/plain": [
       "0.70814074543713756"
      ]
     },
     "execution_count": 44,
     "metadata": {},
     "output_type": "execute_result"
    }
   ],
   "source": [
    "from sklearn.metrics import accuracy_score\n",
    "accuracy_score(y_test, y_pred)"
   ]
  },
  {
   "cell_type": "code",
   "execution_count": 45,
   "metadata": {
    "collapsed": false,
    "deletable": true,
    "editable": true
   },
   "outputs": [
    {
     "data": {
      "text/plain": [
       "0.99850087932640175"
      ]
     },
     "execution_count": 45,
     "metadata": {},
     "output_type": "execute_result"
    }
   ],
   "source": [
    "from sklearn.metrics import accuracy_score\n",
    "accuracy_score(y_train, y_pred_train)"
   ]
  },
  {
   "cell_type": "code",
   "execution_count": 46,
   "metadata": {
    "collapsed": true,
    "deletable": true,
    "editable": true
   },
   "outputs": [],
   "source": [
    "# Balance the classes\n",
    "# from imblearn.under_sampling import RandomUnderSampler\n",
    "# rus = RandomUnderSampler(random_state=42)\n",
    "# X_res, y_res = rus.fit_sample(x, y)\n",
    "# y_res = pd.Series(y_res)\n",
    "# X_res = pd.DataFrame(X_res,columns=x.columns)\n",
    "# y_res.value_counts()"
   ]
  },
  {
   "cell_type": "code",
   "execution_count": 47,
   "metadata": {
    "collapsed": false,
    "deletable": true,
    "editable": true
   },
   "outputs": [
    {
     "data": {
      "text/plain": [
       "['final_model.pkl']"
      ]
     },
     "execution_count": 47,
     "metadata": {},
     "output_type": "execute_result"
    }
   ],
   "source": [
    "from sklearn.externals import joblib\n",
    "filename = 'final_model.pkl'\n",
    "joblib.dump(clf, filename)"
   ]
  },
  {
   "cell_type": "markdown",
   "metadata": {
    "deletable": true,
    "editable": true
   },
   "source": [
    "### 5. Tensorflow"
   ]
  },
  {
   "cell_type": "code",
   "execution_count": 48,
   "metadata": {
    "collapsed": true,
    "deletable": true,
    "editable": true
   },
   "outputs": [],
   "source": [
    "import tensorflow as tf"
   ]
  },
  {
   "cell_type": "code",
   "execution_count": 49,
   "metadata": {
    "collapsed": true,
    "deletable": true,
    "editable": true
   },
   "outputs": [],
   "source": [
    "df_sub_tf = df[['DayOfWeek', \n",
    "                'DayofMonth', \n",
    "                'Month', \n",
    "                'AirlineID', \n",
    "                'OriginAirportID', \n",
    "                'DestAirportID', \n",
    "                'CRSDepTime', \n",
    "                'ClassNo']]"
   ]
  },
  {
   "cell_type": "code",
   "execution_count": 50,
   "metadata": {
    "collapsed": false,
    "deletable": true,
    "editable": true
   },
   "outputs": [
    {
     "data": {
      "text/plain": [
       "(5977790, 8)"
      ]
     },
     "execution_count": 50,
     "metadata": {},
     "output_type": "execute_result"
    }
   ],
   "source": [
    "df_sub_tf.shape"
   ]
  },
  {
   "cell_type": "code",
   "execution_count": 51,
   "metadata": {
    "collapsed": true,
    "deletable": true,
    "editable": true
   },
   "outputs": [],
   "source": [
    "df_sub_tf = df_sub_tf.dropna()"
   ]
  },
  {
   "cell_type": "code",
   "execution_count": 52,
   "metadata": {
    "collapsed": false,
    "deletable": true,
    "editable": true
   },
   "outputs": [
    {
     "data": {
      "text/plain": [
       "DayOfWeek          int64\n",
       "DayofMonth         int64\n",
       "Month              int64\n",
       "AirlineID          int64\n",
       "OriginAirportID    int64\n",
       "DestAirportID      int64\n",
       "CRSDepTime         int64\n",
       "ClassNo            int64\n",
       "dtype: object"
      ]
     },
     "execution_count": 52,
     "metadata": {},
     "output_type": "execute_result"
    }
   ],
   "source": [
    "df_sub_tf.dtypes"
   ]
  },
  {
   "cell_type": "code",
   "execution_count": 53,
   "metadata": {
    "collapsed": true,
    "deletable": true,
    "editable": true
   },
   "outputs": [],
   "source": [
    "df_sub_tf['CRSDepHH'] = df_sub_tf.CRSDepTime/100"
   ]
  },
  {
   "cell_type": "code",
   "execution_count": 54,
   "metadata": {
    "collapsed": true,
    "deletable": true,
    "editable": true
   },
   "outputs": [],
   "source": [
    "df_sub_tf['CRSDepHH'] = df_sub_tf['CRSDepHH'].astype(int)"
   ]
  },
  {
   "cell_type": "code",
   "execution_count": 55,
   "metadata": {
    "collapsed": false,
    "deletable": true,
    "editable": true
   },
   "outputs": [
    {
     "data": {
      "text/plain": [
       "DayOfWeek          int64\n",
       "DayofMonth         int64\n",
       "Month              int64\n",
       "AirlineID          int64\n",
       "OriginAirportID    int64\n",
       "DestAirportID      int64\n",
       "CRSDepTime         int64\n",
       "ClassNo            int64\n",
       "CRSDepHH           int64\n",
       "dtype: object"
      ]
     },
     "execution_count": 55,
     "metadata": {},
     "output_type": "execute_result"
    }
   ],
   "source": [
    "df_sub_tf.dtypes"
   ]
  },
  {
   "cell_type": "code",
   "execution_count": 56,
   "metadata": {
    "collapsed": false,
    "deletable": true,
    "editable": true
   },
   "outputs": [],
   "source": [
    "x, y = df_sub_tf[['DayOfWeek', \n",
    "                'DayofMonth', \n",
    "               'Month', \n",
    "               'AirlineID', \n",
    "               'OriginAirportID', \n",
    "               'DestAirportID' ,\n",
    "                'CRSDepHH']], df_sub_tf['ClassNo']"
   ]
  },
  {
   "cell_type": "code",
   "execution_count": 57,
   "metadata": {
    "collapsed": false,
    "deletable": true,
    "editable": true
   },
   "outputs": [],
   "source": [
    "X_train, X_test, y_train, y_test = train_test_split(x, y, test_size=0.3, random_state=0)"
   ]
  },
  {
   "cell_type": "code",
   "execution_count": 58,
   "metadata": {
    "collapsed": false,
    "deletable": true,
    "editable": true
   },
   "outputs": [
    {
     "data": {
      "text/plain": [
       "DayOfWeek          int64\n",
       "DayofMonth         int64\n",
       "Month              int64\n",
       "AirlineID          int64\n",
       "OriginAirportID    int64\n",
       "DestAirportID      int64\n",
       "CRSDepHH           int64\n",
       "dtype: object"
      ]
     },
     "execution_count": 58,
     "metadata": {},
     "output_type": "execute_result"
    }
   ],
   "source": [
    "X_train.dtypes"
   ]
  },
  {
   "cell_type": "code",
   "execution_count": 59,
   "metadata": {
    "collapsed": false,
    "deletable": true,
    "editable": true
   },
   "outputs": [
    {
     "name": "stdout",
     "output_type": "stream",
     "text": [
      "WARNING:tensorflow:float64 is not supported by many models, consider casting to float32.\n"
     ]
    }
   ],
   "source": [
    "feature_columns = tf.contrib.learn.infer_real_valued_columns_from_input(X_train)"
   ]
  },
  {
   "cell_type": "code",
   "execution_count": 80,
   "metadata": {
    "collapsed": false,
    "deletable": true,
    "editable": true,
    "scrolled": true
   },
   "outputs": [
    {
     "name": "stdout",
     "output_type": "stream",
     "text": [
      "WARNING:tensorflow:Using temporary folder as model directory: /var/folders/8z/dfbp0l_n1mzc97kpzjcyb9jj3xnsfr/T/tmp_g7WCo\n",
      "INFO:tensorflow:Using default config.\n",
      "INFO:tensorflow:Using config: {'_save_checkpoints_secs': 600, '_num_ps_replicas': 0, '_keep_checkpoint_max': 5, '_tf_random_seed': None, '_task_type': None, '_environment': 'local', '_is_chief': True, '_cluster_spec': <tensorflow.python.training.server_lib.ClusterSpec object at 0x1481cd390>, '_tf_config': gpu_options {\n",
      "  per_process_gpu_memory_fraction: 1\n",
      "}\n",
      ", '_task_id': 0, '_save_summary_steps': 100, '_save_checkpoints_steps': None, '_evaluation_master': '', '_keep_checkpoint_every_n_hours': 10000, '_master': ''}\n"
     ]
    }
   ],
   "source": [
    "classifier = tf.contrib.learn.DNNClassifier(feature_columns=feature_columns, hidden_units=[10,20,10], n_classes=5)"
   ]
  },
  {
   "cell_type": "code",
   "execution_count": 81,
   "metadata": {
    "collapsed": true,
    "deletable": true,
    "editable": true
   },
   "outputs": [],
   "source": [
    "from sklearn import datasets\n",
    "from sklearn import metrics\n",
    "from sklearn import model_selection\n",
    "\n",
    "import tensorflow as tf"
   ]
  },
  {
   "cell_type": "code",
   "execution_count": 82,
   "metadata": {
    "collapsed": false,
    "deletable": true,
    "editable": true
   },
   "outputs": [
    {
     "name": "stdout",
     "output_type": "stream",
     "text": [
      "WARNING:tensorflow:From <ipython-input-82-d293bf7fee55>:2: calling fit (from tensorflow.contrib.learn.python.learn.estimators.estimator) with y is deprecated and will be removed after 2016-12-01.\n",
      "Instructions for updating:\n",
      "Estimator is decoupled from Scikit Learn interface by moving into\n",
      "separate class SKCompat. Arguments x, y and batch_size are only\n",
      "available in the SKCompat class, Estimator will only accept input_fn.\n",
      "Example conversion:\n",
      "  est = Estimator(...) -> est = SKCompat(Estimator(...))\n",
      "WARNING:tensorflow:From <ipython-input-82-d293bf7fee55>:2: calling fit (from tensorflow.contrib.learn.python.learn.estimators.estimator) with x is deprecated and will be removed after 2016-12-01.\n",
      "Instructions for updating:\n",
      "Estimator is decoupled from Scikit Learn interface by moving into\n",
      "separate class SKCompat. Arguments x, y and batch_size are only\n",
      "available in the SKCompat class, Estimator will only accept input_fn.\n",
      "Example conversion:\n",
      "  est = Estimator(...) -> est = SKCompat(Estimator(...))\n",
      "WARNING:tensorflow:float64 is not supported by many models, consider casting to float32.\n",
      "WARNING:tensorflow:From /Users/am186122/.virtualenvs/TensorFlow/lib/python2.7/site-packages/tensorflow/contrib/learn/python/learn/estimators/head.py:1362: scalar_summary (from tensorflow.python.ops.logging_ops) is deprecated and will be removed after 2016-11-30.\n",
      "Instructions for updating:\n",
      "Please switch to tf.summary.scalar. Note that tf.summary.scalar uses the node name instead of the tag. This means that TensorFlow will automatically de-duplicate summary names based on the scope they are created in. Also, passing a tensor or list of tags to a scalar summary op is no longer supported.\n",
      "INFO:tensorflow:Create CheckpointSaverHook.\n",
      "INFO:tensorflow:Saving checkpoints for 1 into /var/folders/8z/dfbp0l_n1mzc97kpzjcyb9jj3xnsfr/T/tmp_g7WCo/model.ckpt.\n",
      "INFO:tensorflow:loss = 4002.83, step = 1\n",
      "INFO:tensorflow:global_step/sec: 67.0045\n",
      "INFO:tensorflow:loss = 0.920548, step = 101\n",
      "INFO:tensorflow:global_step/sec: 70.1036\n",
      "INFO:tensorflow:loss = 0.770116, step = 201\n",
      "INFO:tensorflow:global_step/sec: 71.6646\n",
      "INFO:tensorflow:loss = 0.710409, step = 301\n",
      "INFO:tensorflow:global_step/sec: 70.356\n",
      "INFO:tensorflow:loss = 0.681758, step = 401\n",
      "INFO:tensorflow:global_step/sec: 71.2506\n",
      "INFO:tensorflow:loss = 0.666376, step = 501\n",
      "INFO:tensorflow:global_step/sec: 70.8521\n",
      "INFO:tensorflow:loss = 0.657434, step = 601\n",
      "INFO:tensorflow:global_step/sec: 64.3724\n",
      "INFO:tensorflow:loss = 0.651911, step = 701\n",
      "INFO:tensorflow:global_step/sec: 70.9026\n",
      "INFO:tensorflow:loss = 0.64832, step = 801\n",
      "INFO:tensorflow:global_step/sec: 71.2952\n",
      "INFO:tensorflow:loss = 0.645887, step = 901\n",
      "INFO:tensorflow:global_step/sec: 70.6436\n",
      "INFO:tensorflow:loss = 0.644178, step = 1001\n",
      "INFO:tensorflow:global_step/sec: 70.6248\n",
      "INFO:tensorflow:loss = 0.642939, step = 1101\n",
      "INFO:tensorflow:global_step/sec: 67.4012\n",
      "INFO:tensorflow:loss = 0.642018, step = 1201\n",
      "INFO:tensorflow:global_step/sec: 68.1695\n",
      "INFO:tensorflow:loss = 0.641318, step = 1301\n",
      "INFO:tensorflow:global_step/sec: 69.6223\n",
      "INFO:tensorflow:loss = 0.640776, step = 1401\n",
      "INFO:tensorflow:global_step/sec: 65.2996\n",
      "INFO:tensorflow:loss = 0.640352, step = 1501\n",
      "INFO:tensorflow:global_step/sec: 61.3709\n",
      "INFO:tensorflow:loss = 0.640015, step = 1601\n",
      "INFO:tensorflow:global_step/sec: 57.7453\n",
      "INFO:tensorflow:loss = 0.639747, step = 1701\n",
      "INFO:tensorflow:global_step/sec: 59.8023\n",
      "INFO:tensorflow:loss = 0.639528, step = 1801\n",
      "INFO:tensorflow:global_step/sec: 66.7336\n",
      "INFO:tensorflow:loss = 0.639354, step = 1901\n",
      "INFO:tensorflow:Saving checkpoints for 2000 into /var/folders/8z/dfbp0l_n1mzc97kpzjcyb9jj3xnsfr/T/tmp_g7WCo/model.ckpt.\n",
      "INFO:tensorflow:Loss for final step: 0.639208.\n"
     ]
    },
    {
     "data": {
      "text/plain": [
       "DNNClassifier(params={'head': <tensorflow.contrib.learn.python.learn.estimators.head._MultiClassHead object at 0x1481cdc90>, 'hidden_units': [10, 20, 10], 'feature_columns': (_RealValuedColumn(column_name='', dimension=7, default_value=None, dtype=tf.float64, normalizer=None),), 'embedding_lr_multipliers': None, 'optimizer': None, 'dropout': None, 'gradient_clip_norm': None, 'activation_fn': <function relu at 0x1261b19b0>, 'input_layer_min_slice_size': None})"
      ]
     },
     "execution_count": 82,
     "metadata": {},
     "output_type": "execute_result"
    }
   ],
   "source": [
    "# Fit and predict.\n",
    "classifier.fit(X_train[:1000], y_train[:1000],steps=2000)"
   ]
  },
  {
   "cell_type": "code",
   "execution_count": 64,
   "metadata": {
    "collapsed": false,
    "deletable": true,
    "editable": true
   },
   "outputs": [
    {
     "name": "stdout",
     "output_type": "stream",
     "text": [
      "WARNING:tensorflow:From /Users/am186122/.virtualenvs/TensorFlow/lib/python2.7/site-packages/tensorflow/contrib/learn/python/learn/estimators/dnn.py:374: calling predict (from tensorflow.contrib.learn.python.learn.estimators.estimator) with x is deprecated and will be removed after 2016-12-01.\n",
      "Instructions for updating:\n",
      "Estimator is decoupled from Scikit Learn interface by moving into\n",
      "separate class SKCompat. Arguments x, y and batch_size are only\n",
      "available in the SKCompat class, Estimator will only accept input_fn.\n",
      "Example conversion:\n",
      "  est = Estimator(...) -> est = SKCompat(Estimator(...))\n",
      "WARNING:tensorflow:float64 is not supported by many models, consider casting to float32.\n",
      "Accuracy: 0.825849\n"
     ]
    }
   ],
   "source": [
    "predictions = list(classifier.predict(X_test, as_iterable=True))\n",
    "score = metrics.accuracy_score(y_test, predictions)\n",
    "print('Accuracy: {0:f}'.format(score))"
   ]
  },
  {
   "cell_type": "code",
   "execution_count": null,
   "metadata": {
    "collapsed": true,
    "deletable": true,
    "editable": true
   },
   "outputs": [],
   "source": []
  }
 ],
 "metadata": {
  "kernelspec": {
   "display_name": "Python 2",
   "language": "python",
   "name": "python2"
  },
  "language_info": {
   "codemirror_mode": {
    "name": "ipython",
    "version": 2
   },
   "file_extension": ".py",
   "mimetype": "text/x-python",
   "name": "python",
   "nbconvert_exporter": "python",
   "pygments_lexer": "ipython2",
   "version": "2.7.13"
  }
 },
 "nbformat": 4,
 "nbformat_minor": 2
}
